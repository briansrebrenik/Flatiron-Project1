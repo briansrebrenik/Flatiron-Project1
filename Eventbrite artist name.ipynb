{
 "cells": [
  {
   "cell_type": "code",
   "execution_count": 1,
   "metadata": {},
   "outputs": [],
   "source": [
    "from bs4 import BeautifulSoup\n",
    "import requests"
   ]
  },
  {
   "cell_type": "code",
   "execution_count": 34,
   "metadata": {},
   "outputs": [],
   "source": [
    "r = requests.get('https://www.eventbrite.com/e/eyedress-tickets-50868875175?aff=ebapi')\n",
    "c = r.content\n",
    "soup = BeautifulSoup(c, 'html.parser')"
   ]
  },
  {
   "cell_type": "code",
   "execution_count": 37,
   "metadata": {},
   "outputs": [
    {
     "data": {
      "text/plain": [
       "[<div class=\"event-details__data\" data-automation=\"artist-list-mobile\">\n",
       " <div class=\"g-cell g-cell-12-12 g-cell--no-gutters has-user-generated-content \">\n",
       " <p class=\"text-stressed\">\n",
       " <span>\n",
       " <a href=\"https://www.eventbrite.com/a/eyedress-46859\">Eyedress</a>\n",
       " </span>\n",
       " </p>\n",
       " <p>\n",
       " </p>\n",
       " </div>\n",
       " </div>, <div class=\"event-details__data\">\n",
       " <meta content=\"2018-12-12T20:00:00-05:00\">\n",
       " <meta content=\"2018-12-12T23:00:00-05:00\"/>\n",
       " <time class=\"clrfix\" data-automation=\"event-details-time\">\n",
       " <p>Wed, Dec 12, 2018, 8:00 PM EST</p>\n",
       " <p></p>\n",
       " <p class=\"hide-small hide-medium\">\n",
       " <a aria-haspopup=\"true\" class=\"js-add-to-calendar-modal js-d-dialog-trigger\" data-automation=\"add-to-calendar\" href=\"#add-to-calendar-modal\" role=\"button\">Add to Calendar</a>\n",
       " </p>\n",
       " </time>\n",
       " </meta></div>, <div class=\"event-details__data\">\n",
       " <p>Baby's All Right</p>\n",
       " <p> 146 Broadway </p>\n",
       " <p>Brooklyn , NY 11211 </p>\n",
       " <p>\n",
       " <a class=\"js-d-scroll-to js-scroll-to-map\" data-d-destination=\"#map-target\" data-d-duration=\"1500\" href=\"#map-target\">View Map</a>\n",
       " <a class=\"js-view-map-link is-hidden\" href=\"https://maps.google.com/maps?hl=en&amp;q=40.7100002,-73.9635342&amp;sll=40.7100002,-73.9635342&amp;z=13&amp;markers=40.7100002,-73.9635342\" target=\"_blank\">View Map</a>\n",
       " </p>\n",
       " </div>, <div class=\"event-details__data\" data-automation=\"refund-policy-mobile\">\n",
       " <p>No Refunds</p>\n",
       " </div>, <div class=\"event-details__data\" data-automation=\"artist-list\">\n",
       " <div class=\"g-cell g-cell-12-12 g-cell--no-gutters has-user-generated-content \">\n",
       " <p class=\"text-stressed\">\n",
       " <span>\n",
       " <a href=\"https://www.eventbrite.com/a/eyedress-46859\">Eyedress</a>\n",
       " </span>\n",
       " </p>\n",
       " <p>\n",
       " </p>\n",
       " </div>\n",
       " </div>, <div class=\"event-details__data\">\n",
       " <meta content=\"2018-12-12T20:00:00-05:00\"/>\n",
       " <meta content=\"2018-12-12T23:00:00-05:00\"/>\n",
       " <time class=\"clrfix\" data-automation=\"event-details-time\">\n",
       " <p>Wed, Dec 12, 2018, 8:00 PM EST</p>\n",
       " <p></p>\n",
       " <p class=\"hide-small hide-medium\">\n",
       " <a aria-haspopup=\"true\" class=\"js-add-to-calendar-modal js-d-dialog-trigger\" data-automation=\"add-to-calendar\" href=\"#add-to-calendar-modal\" role=\"button\">Add to Calendar</a>\n",
       " </p>\n",
       " </time>\n",
       " </div>, <div class=\"event-details__data\">\n",
       " <p>Baby's All Right</p>\n",
       " <p> 146 Broadway </p>\n",
       " <p>Brooklyn , NY 11211 </p>\n",
       " <p>\n",
       " <a class=\"js-d-scroll-to js-scroll-to-map\" data-d-destination=\"#map-target\" data-d-duration=\"1500\" href=\"#map-target\">View Map</a>\n",
       " <a class=\"js-view-map-link is-hidden\" href=\"https://maps.google.com/maps?hl=en&amp;q=40.7100002,-73.9635342&amp;sll=40.7100002,-73.9635342&amp;z=13&amp;markers=40.7100002,-73.9635342\" target=\"_blank\">View Map</a>\n",
       " </p>\n",
       " </div>, <div class=\"event-details__data\" data-automation=\"refund-policy\">\n",
       " <p>No Refunds</p>\n",
       " </div>]"
      ]
     },
     "execution_count": 37,
     "metadata": {},
     "output_type": "execute_result"
    }
   ],
   "source": [
    "soup.findAll('div', {'class': 'event-details__data'})"
   ]
  },
  {
   "cell_type": "code",
   "execution_count": null,
   "metadata": {},
   "outputs": [],
   "source": []
  }
 ],
 "metadata": {
  "kernelspec": {
   "display_name": "Python 3",
   "language": "python",
   "name": "python3"
  },
  "language_info": {
   "codemirror_mode": {
    "name": "ipython",
    "version": 3
   },
   "file_extension": ".py",
   "mimetype": "text/x-python",
   "name": "python",
   "nbconvert_exporter": "python",
   "pygments_lexer": "ipython3",
   "version": "3.6.5"
  }
 },
 "nbformat": 4,
 "nbformat_minor": 2
}
